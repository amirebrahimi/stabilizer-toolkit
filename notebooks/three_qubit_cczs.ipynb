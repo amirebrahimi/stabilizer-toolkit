{
 "cells": [
  {
   "cell_type": "code",
   "execution_count": 1,
   "id": "0fe24787-2785-4131-b135-46ae67dde68f",
   "metadata": {
    "tags": []
   },
   "outputs": [],
   "source": [
    "import sys\n",
    "from functools import reduce\n",
    "import numpy as np\n",
    "import cirq\n",
    "from stabilizer_states import StabilizerStates\n",
    "from stabilizer_toolkit.decompositions import rank2, validate_decompositions\n",
    "from stabilizer_toolkit.magic_states import enumerate_ccz, enumerate_t\n",
    "from stabilizer_toolkit.helpers.unitary import get_tensored_unitary"
   ]
  },
  {
   "cell_type": "code",
   "execution_count": 2,
   "id": "9423207d-fe43-44d7-aace-baaae31d444f",
   "metadata": {
    "tags": []
   },
   "outputs": [],
   "source": [
    "%load_ext autoreload\n",
    "%autoreload 2"
   ]
  },
  {
   "cell_type": "code",
   "execution_count": 3,
   "id": "7514587a-6367-455f-a227-4c4107df07e6",
   "metadata": {
    "tags": []
   },
   "outputs": [],
   "source": [
    "np.set_printoptions(precision=3, linewidth=sys.maxsize, edgeitems=4, threshold=1024, suppress=True) "
   ]
  },
  {
   "cell_type": "code",
   "execution_count": 4,
   "id": "530e749d-1f75-48da-9e69-46ec4b408d7a",
   "metadata": {
    "tags": []
   },
   "outputs": [
    {
     "name": "stdout",
     "output_type": "stream",
     "text": [
      "1080\n"
     ]
    }
   ],
   "source": [
    "S3 = StabilizerStates(3)\n",
    "print(len(S3))"
   ]
  },
  {
   "cell_type": "code",
   "execution_count": 5,
   "id": "171b8aa8-c352-4722-a3eb-7e23bde69b3a",
   "metadata": {
    "tags": []
   },
   "outputs": [],
   "source": [
    "CCZ = next(enumerate_ccz(3))"
   ]
  },
  {
   "cell_type": "code",
   "execution_count": 6,
   "id": "f3a25b0a-07f3-42a7-92fb-79892dbb857b",
   "metadata": {
    "tags": []
   },
   "outputs": [
    {
     "name": "stderr",
     "output_type": "stream",
     "text": [
      "2023-04-19 22:40:40,963\tINFO worker.py:1544 -- Started a local Ray instance. View the dashboard at \u001b[1m\u001b[32m127.0.0.1:8265 \u001b[39m\u001b[22m\n",
      "100%|████████████████████████████████████████████████████████████████████████| 582660/582660 [00:37<00:00, 15526.51it/s]\n"
     ]
    }
   ],
   "source": [
    "decompositions, coeffs = rank2.search_all_stabilizer_states(CCZ, S3)"
   ]
  },
  {
   "cell_type": "code",
   "execution_count": 21,
   "id": "c78d302c-caa3-4942-9966-1d243b085e6f",
   "metadata": {
    "tags": []
   },
   "outputs": [
    {
     "name": "stdout",
     "output_type": "stream",
     "text": [
      "15 decompositions\n",
      "|ψ〉\t= [ 0.354  0.354  0.354  0.354  0.354  0.354  0.354 -0.354]\n",
      "\n",
      "✅\t= [0.707] * [0.  0.5 0.  0.5 0.5 0.  0.5 0. ]\n",
      "\t+ [0.707] * [ 0.5  0.   0.5  0.   0.   0.5  0.  -0.5]\n",
      "\n",
      "✅\t= [0.707] * [0.5 0.  0.  0.5 0.  0.5 0.5 0. ]\n",
      "\t+ [0.707] * [ 0.   0.5  0.5  0.   0.5  0.   0.  -0.5]\n",
      "\n",
      "✅\t= [0.707] * [0.  0.5 0.5 0.  0.  0.5 0.5 0. ]\n",
      "\t+ [0.707] * [ 0.5  0.   0.   0.5  0.5  0.   0.  -0.5]\n",
      "\n",
      "✅\t= [0.707] * [0.5 0.  0.5 0.  0.5 0.  0.5 0. ]\n",
      "\t+ [0.707] * [ 0.   0.5  0.   0.5  0.   0.5  0.  -0.5]\n",
      "\n",
      "✅\t= [0.707] * [0.  0.  0.5 0.5 0.5 0.5 0.  0. ]\n",
      "\t+ [0.707] * [ 0.5  0.5  0.   0.   0.   0.   0.5 -0.5]\n",
      "\n",
      "✅\t= [0.707] * [0.5 0.5 0.  0.  0.5 0.5 0.  0. ]\n",
      "\t+ [0.707] * [ 0.   0.   0.5  0.5  0.   0.   0.5 -0.5]\n",
      "\n",
      "✅\t= [0.707] * [0.5 0.5 0.5 0.5 0.  0.  0.  0. ]\n",
      "\t+ [0.707] * [ 0.   0.   0.   0.   0.5  0.5  0.5 -0.5]\n",
      "\n",
      "✅\t= [1.] * [ 0.354  0.354  0.354 -0.354  0.354  0.354  0.354 -0.354]\n",
      "\t+ [0.707] * [0. 0. 0. 1. 0. 0. 0. 0.]\n",
      "\n",
      "✅\t= [1.] * [ 0.354  0.354  0.354  0.354  0.354 -0.354  0.354 -0.354]\n",
      "\t+ [0.707] * [0. 0. 0. 0. 0. 1. 0. 0.]\n",
      "\n",
      "✅\t= [1.] * [ 0.354 -0.354  0.354  0.354  0.354  0.354  0.354 -0.354]\n",
      "\t+ [0.707] * [0. 1. 0. 0. 0. 0. 0. 0.]\n",
      "\n",
      "✅\t= [1.] * [ 0.354  0.354  0.354  0.354  0.354  0.354 -0.354 -0.354]\n",
      "\t+ [0.707] * [0. 0. 0. 0. 0. 0. 1. 0.]\n",
      "\n",
      "✅\t= [1.] * [ 0.354  0.354 -0.354  0.354  0.354  0.354  0.354 -0.354]\n",
      "\t+ [0.707] * [0. 0. 1. 0. 0. 0. 0. 0.]\n",
      "\n",
      "✅\t= [1.] * [ 0.354  0.354  0.354  0.354 -0.354  0.354  0.354 -0.354]\n",
      "\t+ [0.707] * [0. 0. 0. 0. 1. 0. 0. 0.]\n",
      "\n",
      "✅\t= [1.] * [-0.354  0.354  0.354  0.354  0.354  0.354  0.354 -0.354]\n",
      "\t+ [0.707] * [1. 0. 0. 0. 0. 0. 0. 0.]\n",
      "\n",
      "✅\t= [1.] * [0.354 0.354 0.354 0.354 0.354 0.354 0.354 0.354]\n",
      "\t+ [-0.707] * [0. 0. 0. 0. 0. 0. 0. 1.]\n",
      "\n"
     ]
    },
    {
     "data": {
      "text/plain": [
       "True"
      ]
     },
     "execution_count": 21,
     "metadata": {},
     "output_type": "execute_result"
    }
   ],
   "source": [
    "validate_decompositions(CCZ, decompositions, coeffs)"
   ]
  },
  {
   "cell_type": "code",
   "execution_count": 13,
   "id": "2fc75ed2-2c75-411e-af25-7fe038cbfb37",
   "metadata": {
    "tags": []
   },
   "outputs": [
    {
     "name": "stdout",
     "output_type": "stream",
     "text": [
      "240\n"
     ]
    }
   ],
   "source": [
    "S3_real = StabilizerStates(3, 'real')\n",
    "print(len(S3_real))"
   ]
  },
  {
   "cell_type": "code",
   "execution_count": 14,
   "id": "9789ad9d-0ab3-4461-83d1-0e09c8f536a8",
   "metadata": {
    "tags": []
   },
   "outputs": [
    {
     "name": "stderr",
     "output_type": "stream",
     "text": [
      "2023-04-19 22:49:56,229\tINFO worker.py:1544 -- Started a local Ray instance. View the dashboard at \u001b[1m\u001b[32m127.0.0.1:8265 \u001b[39m\u001b[22m\n",
      "100%|██████████████████████████████████████████████████████████████████████████| 28680/28680 [00:02<00:00, 12411.13it/s]\n"
     ]
    }
   ],
   "source": [
    "decompositions, coeffs = rank2.search_all_stabilizer_states(CCZ, S3_real)"
   ]
  },
  {
   "cell_type": "code",
   "execution_count": 20,
   "id": "33a1c647-0156-443f-bc1b-5129b705f83a",
   "metadata": {
    "tags": []
   },
   "outputs": [
    {
     "name": "stdout",
     "output_type": "stream",
     "text": [
      "15 decompositions\n",
      "|ψ〉\t= [ 0.354  0.354  0.354  0.354  0.354  0.354  0.354 -0.354]\n",
      "\n",
      "✅\t= [0.707] * [0.  0.5 0.  0.5 0.5 0.  0.5 0. ]\n",
      "\t+ [0.707] * [ 0.5  0.   0.5  0.   0.   0.5  0.  -0.5]\n",
      "\n",
      "✅\t= [0.707] * [0.5 0.  0.  0.5 0.  0.5 0.5 0. ]\n",
      "\t+ [0.707] * [ 0.   0.5  0.5  0.   0.5  0.   0.  -0.5]\n",
      "\n",
      "✅\t= [0.707] * [0.  0.5 0.5 0.  0.  0.5 0.5 0. ]\n",
      "\t+ [0.707] * [ 0.5  0.   0.   0.5  0.5  0.   0.  -0.5]\n",
      "\n",
      "✅\t= [0.707] * [0.5 0.  0.5 0.  0.5 0.  0.5 0. ]\n",
      "\t+ [0.707] * [ 0.   0.5  0.   0.5  0.   0.5  0.  -0.5]\n",
      "\n",
      "✅\t= [0.707] * [0.  0.  0.5 0.5 0.5 0.5 0.  0. ]\n",
      "\t+ [0.707] * [ 0.5  0.5  0.   0.   0.   0.   0.5 -0.5]\n",
      "\n",
      "✅\t= [0.707] * [0.5 0.5 0.  0.  0.5 0.5 0.  0. ]\n",
      "\t+ [0.707] * [ 0.   0.   0.5  0.5  0.   0.   0.5 -0.5]\n",
      "\n",
      "✅\t= [0.707] * [0.5 0.5 0.5 0.5 0.  0.  0.  0. ]\n",
      "\t+ [0.707] * [ 0.   0.   0.   0.   0.5  0.5  0.5 -0.5]\n",
      "\n",
      "✅\t= [1.] * [ 0.354  0.354  0.354 -0.354  0.354  0.354  0.354 -0.354]\n",
      "\t+ [0.707] * [0. 0. 0. 1. 0. 0. 0. 0.]\n",
      "\n",
      "✅\t= [1.] * [ 0.354  0.354  0.354  0.354  0.354 -0.354  0.354 -0.354]\n",
      "\t+ [0.707] * [0. 0. 0. 0. 0. 1. 0. 0.]\n",
      "\n",
      "✅\t= [1.] * [ 0.354 -0.354  0.354  0.354  0.354  0.354  0.354 -0.354]\n",
      "\t+ [0.707] * [0. 1. 0. 0. 0. 0. 0. 0.]\n",
      "\n",
      "✅\t= [1.] * [ 0.354  0.354  0.354  0.354  0.354  0.354 -0.354 -0.354]\n",
      "\t+ [0.707] * [0. 0. 0. 0. 0. 0. 1. 0.]\n",
      "\n",
      "✅\t= [1.] * [ 0.354  0.354 -0.354  0.354  0.354  0.354  0.354 -0.354]\n",
      "\t+ [0.707] * [0. 0. 1. 0. 0. 0. 0. 0.]\n",
      "\n",
      "✅\t= [1.] * [ 0.354  0.354  0.354  0.354 -0.354  0.354  0.354 -0.354]\n",
      "\t+ [0.707] * [0. 0. 0. 0. 1. 0. 0. 0.]\n",
      "\n",
      "✅\t= [1.] * [-0.354  0.354  0.354  0.354  0.354  0.354  0.354 -0.354]\n",
      "\t+ [0.707] * [1. 0. 0. 0. 0. 0. 0. 0.]\n",
      "\n",
      "✅\t= [1.] * [0.354 0.354 0.354 0.354 0.354 0.354 0.354 0.354]\n",
      "\t+ [-0.707] * [0. 0. 0. 0. 0. 0. 0. 1.]\n",
      "\n"
     ]
    },
    {
     "data": {
      "text/plain": [
       "True"
      ]
     },
     "execution_count": 20,
     "metadata": {},
     "output_type": "execute_result"
    }
   ],
   "source": [
    "validate_decompositions(CCZ, decompositions, coeffs)"
   ]
  },
  {
   "cell_type": "code",
   "execution_count": 17,
   "id": "a117712a-90e0-4f87-b1b0-edf47794796e",
   "metadata": {
    "tags": []
   },
   "outputs": [
    {
     "name": "stderr",
     "output_type": "stream",
     "text": [
      "2023-04-19 22:50:33,421\tINFO worker.py:1544 -- Started a local Ray instance. View the dashboard at \u001b[1m\u001b[32m127.0.0.1:8265 \u001b[39m\u001b[22m\n",
      "100%|███████████████████████████████████████████████████████████████████████████████| 240/240 [00:00<00:00, 2802.06it/s]\n"
     ]
    }
   ],
   "source": [
    "decompositions, coeffs = rank2.ternary_search(CCZ, S3_real, debug=False)"
   ]
  },
  {
   "cell_type": "code",
   "execution_count": 19,
   "id": "ca0508d3-7207-4bf2-b722-4bb0f47c6d1e",
   "metadata": {
    "tags": []
   },
   "outputs": [
    {
     "name": "stdout",
     "output_type": "stream",
     "text": [
      "15 decompositions\n",
      "|ψ〉\t= [ 0.354  0.354  0.354  0.354  0.354  0.354  0.354 -0.354]\n",
      "\n",
      "✅\t= [0.707] * [0.  0.5 0.  0.5 0.5 0.  0.5 0. ]\n",
      "\t+ [0.707] * [ 0.5  0.   0.5  0.   0.   0.5  0.  -0.5]\n",
      "\n",
      "✅\t= [0.707] * [0.5 0.  0.  0.5 0.  0.5 0.5 0. ]\n",
      "\t+ [0.707] * [ 0.   0.5  0.5  0.   0.5  0.   0.  -0.5]\n",
      "\n",
      "✅\t= [0.707] * [0.  0.5 0.5 0.  0.  0.5 0.5 0. ]\n",
      "\t+ [0.707] * [ 0.5  0.   0.   0.5  0.5  0.   0.  -0.5]\n",
      "\n",
      "✅\t= [0.707] * [0.5 0.  0.5 0.  0.5 0.  0.5 0. ]\n",
      "\t+ [0.707] * [ 0.   0.5  0.   0.5  0.   0.5  0.  -0.5]\n",
      "\n",
      "✅\t= [0.707] * [0.  0.  0.5 0.5 0.5 0.5 0.  0. ]\n",
      "\t+ [0.707] * [ 0.5  0.5  0.   0.   0.   0.   0.5 -0.5]\n",
      "\n",
      "✅\t= [0.707] * [0.5 0.5 0.  0.  0.5 0.5 0.  0. ]\n",
      "\t+ [0.707] * [ 0.   0.   0.5  0.5  0.   0.   0.5 -0.5]\n",
      "\n",
      "✅\t= [0.707] * [0.5 0.5 0.5 0.5 0.  0.  0.  0. ]\n",
      "\t+ [0.707] * [ 0.   0.   0.   0.   0.5  0.5  0.5 -0.5]\n",
      "\n",
      "✅\t= [1.] * [ 0.354  0.354  0.354 -0.354  0.354  0.354  0.354 -0.354]\n",
      "\t+ [0.707] * [0. 0. 0. 1. 0. 0. 0. 0.]\n",
      "\n",
      "✅\t= [1.] * [ 0.354  0.354  0.354  0.354  0.354 -0.354  0.354 -0.354]\n",
      "\t+ [0.707] * [0. 0. 0. 0. 0. 1. 0. 0.]\n",
      "\n",
      "✅\t= [1.] * [ 0.354 -0.354  0.354  0.354  0.354  0.354  0.354 -0.354]\n",
      "\t+ [0.707] * [0. 1. 0. 0. 0. 0. 0. 0.]\n",
      "\n",
      "✅\t= [1.] * [ 0.354  0.354  0.354  0.354  0.354  0.354 -0.354 -0.354]\n",
      "\t+ [0.707] * [0. 0. 0. 0. 0. 0. 1. 0.]\n",
      "\n",
      "✅\t= [1.] * [ 0.354  0.354 -0.354  0.354  0.354  0.354  0.354 -0.354]\n",
      "\t+ [0.707] * [0. 0. 1. 0. 0. 0. 0. 0.]\n",
      "\n",
      "✅\t= [1.] * [ 0.354  0.354  0.354  0.354 -0.354  0.354  0.354 -0.354]\n",
      "\t+ [0.707] * [0. 0. 0. 0. 1. 0. 0. 0.]\n",
      "\n",
      "✅\t= [1.] * [-0.354  0.354  0.354  0.354  0.354  0.354  0.354 -0.354]\n",
      "\t+ [0.707] * [1. 0. 0. 0. 0. 0. 0. 0.]\n",
      "\n",
      "✅\t= [1.] * [0.354 0.354 0.354 0.354 0.354 0.354 0.354 0.354]\n",
      "\t+ [-0.707] * [0. 0. 0. 0. 0. 0. 0. 1.]\n",
      "\n"
     ]
    },
    {
     "data": {
      "text/plain": [
       "True"
      ]
     },
     "execution_count": 19,
     "metadata": {},
     "output_type": "execute_result"
    }
   ],
   "source": [
    "validate_decompositions(CCZ, decompositions, coeffs)"
   ]
  },
  {
   "cell_type": "code",
   "execution_count": null,
   "id": "d5214b56-ab09-4c87-b792-aaa61c28c7b7",
   "metadata": {},
   "outputs": [],
   "source": []
  }
 ],
 "metadata": {
  "kernelspec": {
   "display_name": "Python 3 (ipykernel)",
   "language": "python",
   "name": "python3"
  },
  "language_info": {
   "codemirror_mode": {
    "name": "ipython",
    "version": 3
   },
   "file_extension": ".py",
   "mimetype": "text/x-python",
   "name": "python",
   "nbconvert_exporter": "python",
   "pygments_lexer": "ipython3",
   "version": "3.9.16"
  }
 },
 "nbformat": 4,
 "nbformat_minor": 5
}
