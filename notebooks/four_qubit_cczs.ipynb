{
 "cells": [
  {
   "cell_type": "code",
   "execution_count": 2,
   "id": "0fe24787-2785-4131-b135-46ae67dde68f",
   "metadata": {
    "tags": []
   },
   "outputs": [],
   "source": [
    "import sys\n",
    "from functools import reduce\n",
    "import numpy as np\n",
    "import cirq\n",
    "from stabilizer_states import StabilizerStates\n",
    "from stabilizer_toolkit.decompositions import rank2, validate_decompositions\n",
    "from stabilizer_toolkit.magic_states import enumerate_ccz\n",
    "from stabilizer_toolkit.helpers.unitary import get_tensored_unitary"
   ]
  },
  {
   "cell_type": "code",
   "execution_count": 3,
   "id": "9423207d-fe43-44d7-aace-baaae31d444f",
   "metadata": {
    "tags": []
   },
   "outputs": [],
   "source": [
    "%load_ext autoreload\n",
    "%autoreload 2"
   ]
  },
  {
   "cell_type": "code",
   "execution_count": 4,
   "id": "7514587a-6367-455f-a227-4c4107df07e6",
   "metadata": {
    "tags": []
   },
   "outputs": [],
   "source": [
    "np.set_printoptions(precision=3, linewidth=sys.maxsize, edgeitems=4, threshold=1024, suppress=True) "
   ]
  },
  {
   "cell_type": "markdown",
   "id": "00bd8515-f739-413c-8d0c-522040c0f3a6",
   "metadata": {},
   "source": [
    "For four qubit $\\mathtt{CCZ}$ magic states, we already know we can search within the real stabilizer states, reducing the dataset down from $36,720$ complex-valued four qubit stabilizer states down to only $4,320$ real-valued stabilizer states."
   ]
  },
  {
   "cell_type": "code",
   "execution_count": 5,
   "id": "530e749d-1f75-48da-9e69-46ec4b408d7a",
   "metadata": {
    "tags": []
   },
   "outputs": [
    {
     "name": "stdout",
     "output_type": "stream",
     "text": [
      "36720\n"
     ]
    }
   ],
   "source": [
    "S4 = StabilizerStates(4)\n",
    "print(len(S4))"
   ]
  },
  {
   "cell_type": "code",
   "execution_count": 6,
   "id": "0c20a248-530c-4ed5-aa15-34a7dc2a4a1a",
   "metadata": {
    "tags": []
   },
   "outputs": [
    {
     "name": "stdout",
     "output_type": "stream",
     "text": [
      "4320\n"
     ]
    }
   ],
   "source": [
    "S4 = StabilizerStates(4, 'real')\n",
    "print(len(S4))"
   ]
  },
  {
   "cell_type": "markdown",
   "id": "e558cb85-e425-49bd-addd-f1d3e3d75483",
   "metadata": {},
   "source": [
    "If we brute force search over our real stabilizer state dataset, then this requires looking at $9,329,040$ pairs, which can be slow with our standard decomposition method (~7.5 minutes on my laptop). And this is only for a **single**, distinct four-qubit $\\mathtt{CCZ}$ magic state."
   ]
  },
  {
   "cell_type": "code",
   "execution_count": 30,
   "id": "171b8aa8-c352-4722-a3eb-7e23bde69b3a",
   "metadata": {
    "tags": []
   },
   "outputs": [
    {
     "name": "stderr",
     "output_type": "stream",
     "text": [
      "2023-04-20 22:13:38,660\tINFO worker.py:1544 -- Started a local Ray instance. View the dashboard at \u001b[1m\u001b[32m127.0.0.1:8265 \u001b[39m\u001b[22m\n",
      "100%|██████████████████████████████████████████████████████████████████████| 9329040/9329040 [07:20<00:00, 21201.19it/s]\n"
     ]
    }
   ],
   "source": [
    "_, state, _, _ = next(enumerate_ccz(4))\n",
    "decompositions, coeffs = rank2.search_all_stabilizer_states(state, S4)"
   ]
  },
  {
   "cell_type": "code",
   "execution_count": 31,
   "id": "c78d302c-caa3-4942-9966-1d243b085e6f",
   "metadata": {
    "tags": []
   },
   "outputs": [
    {
     "name": "stdout",
     "output_type": "stream",
     "text": [
      "15 decompositions\n",
      "|ψ〉\t= [ 0.25  0.25  0.25  0.25  0.25  0.25  0.25 -0.25  0.25  0.25  0.25 -0.25  0.25  0.25  0.25  0.25]\n",
      "\n",
      "✅\t= [1.] * [0.25 0.25 0.25 0.25 0.25 0.25 0.25 0.25 0.25 0.25 0.25 0.25 0.25 0.25 0.25 0.25]\n",
      "\t+ [-0.707] * [0.    0.    0.    0.    0.    0.    0.    0.707 0.    0.    0.    0.707 0.    0.    0.    0.   ]\n",
      "\n",
      "✅\t= [1.] * [ 0.25  0.25  0.25 -0.25  0.25  0.25  0.25 -0.25  0.25  0.25  0.25 -0.25  0.25  0.25  0.25 -0.25]\n",
      "\t+ [0.707] * [0.    0.    0.    0.707 0.    0.    0.    0.    0.    0.    0.    0.    0.    0.    0.    0.707]\n",
      "\n",
      "✅\t= [1.] * [ 0.25  0.25  0.25  0.25  0.25 -0.25  0.25 -0.25  0.25 -0.25  0.25 -0.25  0.25  0.25  0.25  0.25]\n",
      "\t+ [0.707] * [0.    0.    0.    0.    0.    0.707 0.    0.    0.    0.707 0.    0.    0.    0.    0.    0.   ]\n",
      "\n",
      "✅\t= [1.] * [ 0.25 -0.25  0.25  0.25  0.25  0.25  0.25 -0.25  0.25  0.25  0.25 -0.25  0.25 -0.25  0.25  0.25]\n",
      "\t+ [0.707] * [0.    0.707 0.    0.    0.    0.    0.    0.    0.    0.    0.    0.    0.    0.707 0.    0.   ]\n",
      "\n",
      "✅\t= [1.] * [ 0.25  0.25  0.25  0.25  0.25  0.25 -0.25 -0.25  0.25  0.25 -0.25 -0.25  0.25  0.25  0.25  0.25]\n",
      "\t+ [0.707] * [0.    0.    0.    0.    0.    0.    0.707 0.    0.    0.    0.707 0.    0.    0.    0.    0.   ]\n",
      "\n",
      "✅\t= [1.] * [ 0.25  0.25 -0.25  0.25  0.25  0.25  0.25 -0.25  0.25  0.25  0.25 -0.25  0.25  0.25 -0.25  0.25]\n",
      "\t+ [0.707] * [0.    0.    0.707 0.    0.    0.    0.    0.    0.    0.    0.    0.    0.    0.    0.707 0.   ]\n",
      "\n",
      "✅\t= [1.] * [ 0.25  0.25  0.25  0.25 -0.25  0.25  0.25 -0.25 -0.25  0.25  0.25 -0.25  0.25  0.25  0.25  0.25]\n",
      "\t+ [0.707] * [0.    0.    0.    0.    0.707 0.    0.    0.    0.707 0.    0.    0.    0.    0.    0.    0.   ]\n",
      "\n",
      "✅\t= [1.] * [-0.25  0.25  0.25  0.25  0.25  0.25  0.25 -0.25  0.25  0.25  0.25 -0.25 -0.25  0.25  0.25  0.25]\n",
      "\t+ [0.707] * [0.707 0.    0.    0.    0.    0.    0.    0.    0.    0.    0.    0.    0.707 0.    0.    0.   ]\n",
      "\n",
      "✅\t= [0.707] * [0.    0.354 0.    0.354 0.354 0.    0.354 0.    0.354 0.    0.354 0.    0.    0.354 0.    0.354]\n",
      "\t+ [0.707] * [ 0.354  0.     0.354  0.     0.     0.354  0.    -0.354  0.     0.354  0.    -0.354  0.354  0.     0.354  0.   ]\n",
      "\n",
      "✅\t= [0.707] * [0.354 0.    0.    0.354 0.    0.354 0.354 0.    0.    0.354 0.354 0.    0.354 0.    0.    0.354]\n",
      "\t+ [0.707] * [ 0.     0.354  0.354  0.     0.354  0.     0.    -0.354  0.354  0.     0.    -0.354  0.     0.354  0.354  0.   ]\n",
      "\n",
      "✅\t= [0.707] * [0.    0.354 0.354 0.    0.    0.354 0.354 0.    0.    0.354 0.354 0.    0.    0.354 0.354 0.   ]\n",
      "\t+ [0.707] * [ 0.354  0.     0.     0.354  0.354  0.     0.    -0.354  0.354  0.     0.    -0.354  0.354  0.     0.     0.354]\n",
      "\n",
      "✅\t= [0.707] * [0.354 0.    0.354 0.    0.354 0.    0.354 0.    0.354 0.    0.354 0.    0.354 0.    0.354 0.   ]\n",
      "\t+ [0.707] * [ 0.     0.354  0.     0.354  0.     0.354  0.    -0.354  0.     0.354  0.    -0.354  0.     0.354  0.     0.354]\n",
      "\n",
      "✅\t= [0.707] * [0.    0.    0.354 0.354 0.354 0.354 0.    0.    0.354 0.354 0.    0.    0.    0.    0.354 0.354]\n",
      "\t+ [0.707] * [ 0.354  0.354  0.     0.     0.     0.     0.354 -0.354  0.     0.     0.354 -0.354  0.354  0.354  0.     0.   ]\n",
      "\n",
      "✅\t= [0.707] * [0.354 0.354 0.    0.    0.354 0.354 0.    0.    0.354 0.354 0.    0.    0.354 0.354 0.    0.   ]\n",
      "\t+ [0.707] * [ 0.     0.     0.354  0.354  0.     0.     0.354 -0.354  0.     0.     0.354 -0.354  0.     0.     0.354  0.354]\n",
      "\n",
      "✅\t= [0.707] * [0.354 0.354 0.354 0.354 0.    0.    0.    0.    0.    0.    0.    0.    0.354 0.354 0.354 0.354]\n",
      "\t+ [0.707] * [ 0.     0.     0.     0.     0.354  0.354  0.354 -0.354  0.354  0.354  0.354 -0.354  0.     0.     0.     0.   ]\n",
      "\n"
     ]
    },
    {
     "data": {
      "text/plain": [
       "True"
      ]
     },
     "execution_count": 31,
     "metadata": {},
     "output_type": "execute_result"
    }
   ],
   "source": [
    "validate_decompositions(state, decompositions, coeffs)"
   ]
  },
  {
   "cell_type": "markdown",
   "id": "22ff2434-ee25-423b-a843-46208a37e81b",
   "metadata": {},
   "source": [
    "There are $3$ distinct four qubit $\\mathtt{CCZ}$ circuits and corresponding magic states, so this would take over 20 minutes to calculate all rank-2 decompositions."
   ]
  },
  {
   "cell_type": "code",
   "execution_count": 22,
   "id": "a808bdfd-640c-41a1-a693-cb2880a92a60",
   "metadata": {
    "tags": []
   },
   "outputs": [
    {
     "name": "stdout",
     "output_type": "stream",
     "text": [
      "3\n"
     ]
    }
   ],
   "source": [
    "print(len(list(enumerate_ccz(4))))"
   ]
  },
  {
   "cell_type": "markdown",
   "id": "89cf88b0-7362-4b0f-8cc4-581f4b3ec5c3",
   "metadata": {},
   "source": [
    "If we use our ternary search method, then this is much faster (~1 second on my laptop). We can go through all distinct four qubit magic states now in a matter of seconds. Each distinct state has $15$ rank-2 decompositions characteristic of the the three qubit $|\\mathtt{CCZ}\\rangle$ magic state. We know from the manuscript that each four qubit $\\mathtt{CCZ}$ magic state reduces down to a single $\\mathtt{CCZ}$ in the circuit for generating the magic state."
   ]
  },
  {
   "cell_type": "code",
   "execution_count": 23,
   "id": "a117712a-90e0-4f87-b1b0-edf47794796e",
   "metadata": {
    "tags": []
   },
   "outputs": [
    {
     "name": "stderr",
     "output_type": "stream",
     "text": [
      "2023-05-11 22:45:13,629\tINFO worker.py:1544 -- Started a local Ray instance. View the dashboard at \u001b[1m\u001b[32m127.0.0.1:8265 \u001b[39m\u001b[22m\n",
      "100%|█████████████████████████████████████████████████████████████████████████████| 4320/4320 [00:02<00:00, 1860.13it/s]\n"
     ]
    },
    {
     "name": "stdout",
     "output_type": "stream",
     "text": [
      "\n",
      "Distinct circuit index 3\n",
      "|ψ〉= [ 0.25  0.25  0.25  0.25  0.25  0.25  0.25 -0.25  0.25  0.25  0.25 -0.25  0.25  0.25  0.25  0.25]\n",
      " D = diag([ 1.  1.  1.  1.  1.  1.  1. -1.  1.  1.  1. -1.  1.  1.  1.  1.])\n",
      "[[1 0]\n",
      " [0 1]\n",
      " [1 1]\n",
      " [1 1]]\n",
      "All 15 decomposition(s) rank-2: ✅\n",
      "\n"
     ]
    },
    {
     "name": "stderr",
     "output_type": "stream",
     "text": [
      "2023-05-11 22:45:22,735\tINFO worker.py:1544 -- Started a local Ray instance. View the dashboard at \u001b[1m\u001b[32m127.0.0.1:8265 \u001b[39m\u001b[22m\n",
      "100%|█████████████████████████████████████████████████████████████████████████████| 4320/4320 [00:02<00:00, 1888.93it/s]\n"
     ]
    },
    {
     "name": "stdout",
     "output_type": "stream",
     "text": [
      "\n",
      "Distinct circuit index 7\n",
      "|ψ〉= [ 0.25  0.25  0.25  0.25  0.25  0.25  0.25 -0.25  0.25  0.25  0.25 -0.25  0.25 -0.25  0.25 -0.25]\n",
      " D = diag([ 1.  1.  1.  1.  1.  1.  1. -1.  1.  1.  1. -1.  1. -1.  1. -1.])\n",
      "[[1 1 0]\n",
      " [1 0 1]\n",
      " [0 1 1]\n",
      " [1 1 1]]\n",
      "All 15 decomposition(s) rank-2: ✅\n",
      "\n"
     ]
    },
    {
     "name": "stderr",
     "output_type": "stream",
     "text": [
      "2023-05-11 22:45:30,999\tINFO worker.py:1544 -- Started a local Ray instance. View the dashboard at \u001b[1m\u001b[32m127.0.0.1:8265 \u001b[39m\u001b[22m\n",
      "100%|█████████████████████████████████████████████████████████████████████████████| 4320/4320 [00:02<00:00, 1885.55it/s]\n"
     ]
    },
    {
     "name": "stdout",
     "output_type": "stream",
     "text": [
      "\n",
      "Distinct circuit index 15\n",
      "|ψ〉= [ 0.25  0.25  0.25  0.25  0.25  0.25  0.25 -0.25  0.25  0.25  0.25 -0.25  0.25 -0.25 -0.25  0.25]\n",
      " D = diag([ 1.  1.  1.  1.  1.  1.  1. -1.  1.  1.  1. -1.  1. -1. -1.  1.])\n",
      "[[1 1 1 0]\n",
      " [1 1 0 1]\n",
      " [1 0 1 1]\n",
      " [0 1 1 1]]\n",
      "All 15 decomposition(s) rank-2: ✅\n",
      "\n"
     ]
    }
   ],
   "source": [
    "for index, state, D, circuit in enumerate_ccz(4):\n",
    "    decompositions, coeffs = rank2.ternary_search(state, S4)\n",
    "    print()\n",
    "    print(f\"Distinct circuit index {index}\")\n",
    "    print(f\"|ψ〉= {state}\")\n",
    "    print(f\" D = diag({np.diag(D)})\")\n",
    "    print(circuit)\n",
    "    valid = validate_decompositions(state, decompositions, coeffs, show=False)\n",
    "    status = \"✅\" if valid else \"❌\"\n",
    "    print(f\"All {len(decompositions)} decomposition(s) rank-2: {status}\")\n",
    "    print()"
   ]
  },
  {
   "cell_type": "code",
   "execution_count": null,
   "id": "d5214b56-ab09-4c87-b792-aaa61c28c7b7",
   "metadata": {},
   "outputs": [],
   "source": []
  }
 ],
 "metadata": {
  "kernelspec": {
   "display_name": "Python 3 (ipykernel)",
   "language": "python",
   "name": "python3"
  },
  "language_info": {
   "codemirror_mode": {
    "name": "ipython",
    "version": 3
   },
   "file_extension": ".py",
   "mimetype": "text/x-python",
   "name": "python",
   "nbconvert_exporter": "python",
   "pygments_lexer": "ipython3",
   "version": "3.9.16"
  }
 },
 "nbformat": 4,
 "nbformat_minor": 5
}
