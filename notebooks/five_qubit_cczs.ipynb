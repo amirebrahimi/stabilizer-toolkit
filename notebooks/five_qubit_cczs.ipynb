{
 "cells": [
  {
   "cell_type": "code",
   "execution_count": 1,
   "id": "0fe24787-2785-4131-b135-46ae67dde68f",
   "metadata": {
    "tags": []
   },
   "outputs": [],
   "source": [
    "import sys\n",
    "from functools import reduce\n",
    "import numpy as np\n",
    "import cirq\n",
    "from stabilizer_states import StabilizerStates\n",
    "from stabilizer_toolkit.decompositions import rank2, validate_decompositions\n",
    "from stabilizer_toolkit.magic_states import enumerate_ccz, enumerate_t\n",
    "from stabilizer_toolkit.helpers.unitary import get_tensored_unitary"
   ]
  },
  {
   "cell_type": "code",
   "execution_count": 2,
   "id": "9423207d-fe43-44d7-aace-baaae31d444f",
   "metadata": {
    "tags": []
   },
   "outputs": [],
   "source": [
    "%load_ext autoreload\n",
    "%autoreload 2"
   ]
  },
  {
   "cell_type": "code",
   "execution_count": 3,
   "id": "7514587a-6367-455f-a227-4c4107df07e6",
   "metadata": {
    "tags": []
   },
   "outputs": [],
   "source": [
    "np.set_printoptions(precision=3, linewidth=sys.maxsize, edgeitems=4, threshold=1024, suppress=True) "
   ]
  },
  {
   "cell_type": "markdown",
   "id": "918f37c5-2581-4c95-b221-cb55c185fb02",
   "metadata": {},
   "source": [
    "While it is possible to load the full five qubit stabilizer state dataset, there are many more states than we actually need."
   ]
  },
  {
   "cell_type": "code",
   "execution_count": 6,
   "id": "2b7bd2dc-8390-4f98-a714-4511a2ad5365",
   "metadata": {
    "tags": []
   },
   "outputs": [
    {
     "data": {
      "text/plain": [
       "2423520"
      ]
     },
     "execution_count": 6,
     "metadata": {},
     "output_type": "execute_result"
    }
   ],
   "source": [
    "StabilizerStates.count(5)"
   ]
  },
  {
   "cell_type": "code",
   "execution_count": null,
   "id": "a35511bb-eaa7-4389-9919-21853ab077b5",
   "metadata": {},
   "outputs": [],
   "source": [
    "S5 = StabilizerStates(5, 'real')\n",
    "_, state, _, _ = next(enumerate_ccz(5))"
   ]
  },
  {
   "cell_type": "markdown",
   "id": "eee484bd-fea6-4246-9c8f-a93e13a8ca7a",
   "metadata": {
    "tags": []
   },
   "source": [
    "So, we would be looking over ~2.4M states, but luckily we only need to search within the real stabilizer states, which is roughly 147k."
   ]
  },
  {
   "cell_type": "code",
   "execution_count": null,
   "id": "530e749d-1f75-48da-9e69-46ec4b408d7a",
   "metadata": {
    "tags": []
   },
   "outputs": [
    {
     "name": "stdout",
     "output_type": "stream",
     "text": [
      "146880\n",
      "[19] [1 0 0 1 1]\n",
      "[11] [0 1 0 1 1]\n",
      "[7] [0 0 1 1 1]\n"
     ]
    },
    {
     "name": "stderr",
     "output_type": "stream",
     "text": [
      "2023-04-20 23:47:32,540\tINFO worker.py:1544 -- Started a local Ray instance. View the dashboard at \u001b[1m\u001b[32m127.0.0.1:8265 \u001b[39m\u001b[22m\n",
      "  9%|█████▏                                                    | 957791864/10786793760 [9:59:28<106:05:46, 25733.94it/s]"
     ]
    }
   ],
   "source": [
    "S5 = StabilizerStates(5, 'ternary')\n",
    "print(len(S5))\n",
    "_, state, _, _ = next(enumerate_ccz(5))\n",
    "decompositions, coeffs = rank2.search_all_stabilizer_states(state, S5, num_cpus=8)"
   ]
  },
  {
   "cell_type": "code",
   "execution_count": 29,
   "id": "e4e22677-b0b7-430b-a68f-39c1d8a066f9",
   "metadata": {
    "tags": []
   },
   "outputs": [
    {
     "name": "stdout",
     "output_type": "stream",
     "text": [
      "[19] [1 0 0 1 1]\n",
      "[11] [0 1 0 1 1]\n",
      "[7] [0 0 1 1 1]\n"
     ]
    },
    {
     "name": "stderr",
     "output_type": "stream",
     "text": [
      "2023-04-20 23:36:56,904\tINFO worker.py:1544 -- Started a local Ray instance. View the dashboard at \u001b[1m\u001b[32m127.0.0.1:8265 \u001b[39m\u001b[22m\n",
      "100%|██████████████████████████████████████████████████████████████████████████| 146880/146880 [05:51<00:00, 417.44it/s]\n"
     ]
    }
   ],
   "source": [
    "_, state, _, _ = next(enumerate_ccz(5))\n",
    "decompositions, coeffs = rank2.ternary_search(state, S5, debug=False)"
   ]
  },
  {
   "cell_type": "code",
   "execution_count": 30,
   "id": "b890b76c-f1be-4fea-90ec-a49b9ef5c447",
   "metadata": {
    "tags": []
   },
   "outputs": [
    {
     "name": "stdout",
     "output_type": "stream",
     "text": [
      "12 decompositions\n",
      "|ψ〉\t= [ 0.177  0.177  0.177  0.177  0.177  0.177  0.177 -0.177  0.177  0.177  0.177 -0.177  0.177  0.177  0.177  0.177  0.177  0.177  0.177 -0.177  0.177  0.177  0.177  0.177  0.177  0.177  0.177  0.177  0.177  0.177  0.177 -0.177]\n",
      "\n",
      "✅\t= [0.707] * [ 0.    0.    0.25  0.25  0.    0.    0.25 -0.25  0.    0.    0.25 -0.25  0.    0.    0.25  0.25  0.    0.    0.25 -0.25  0.    0.    0.25  0.25  0.    0.    0.25  0.25  0.    0.    0.25 -0.25]\n",
      "\t+ [0.707] * [0.25 0.25 0.   0.   0.25 0.25 0.   0.   0.25 0.25 0.   0.   0.25 0.25 0.   0.   0.25 0.25 0.   0.   0.25 0.25 0.   0.   0.25 0.25 0.   0.   0.25 0.25 0.   0.  ]\n",
      "\n",
      "✅\t= [0.707] * [ 0.    0.25  0.25  0.    0.25  0.    0.   -0.25  0.25  0.    0.   -0.25  0.    0.25  0.25  0.    0.25  0.    0.   -0.25  0.    0.25  0.25  0.    0.    0.25  0.25  0.    0.25  0.    0.   -0.25]\n",
      "\t+ [0.707] * [0.25 0.   0.   0.25 0.   0.25 0.25 0.   0.   0.25 0.25 0.   0.25 0.   0.   0.25 0.   0.25 0.25 0.   0.25 0.   0.   0.25 0.25 0.   0.   0.25 0.   0.25 0.25 0.  ]\n",
      "\n",
      "✅\t= [0.707] * [ 0.    0.    0.    0.    0.25  0.25  0.25 -0.25  0.25  0.25  0.25 -0.25  0.    0.    0.    0.    0.25  0.25  0.25 -0.25  0.    0.    0.    0.    0.    0.    0.    0.    0.25  0.25  0.25 -0.25]\n",
      "\t+ [0.707] * [0.25 0.25 0.25 0.25 0.   0.   0.   0.   0.   0.   0.   0.   0.25 0.25 0.25 0.25 0.   0.   0.   0.   0.25 0.25 0.25 0.25 0.25 0.25 0.25 0.25 0.   0.   0.   0.  ]\n",
      "\n",
      "✅\t= [0.707] * [ 0.25  0.    0.25  0.    0.    0.25  0.   -0.25  0.    0.25  0.   -0.25  0.25  0.    0.25  0.    0.    0.25  0.   -0.25  0.25  0.    0.25  0.    0.25  0.    0.25  0.    0.    0.25  0.   -0.25]\n",
      "\t+ [0.707] * [0.   0.25 0.   0.25 0.25 0.   0.25 0.   0.25 0.   0.25 0.   0.   0.25 0.   0.25 0.25 0.   0.25 0.   0.   0.25 0.   0.25 0.   0.25 0.   0.25 0.25 0.   0.25 0.  ]\n",
      "\n",
      "✅\t= [0.707] * [0.   0.   0.25 0.25 0.25 0.25 0.   0.   0.25 0.25 0.   0.   0.   0.   0.25 0.25 0.25 0.25 0.   0.   0.   0.   0.25 0.25 0.   0.   0.25 0.25 0.25 0.25 0.   0.  ]\n",
      "\t+ [0.707] * [ 0.25  0.25  0.    0.    0.    0.    0.25 -0.25  0.    0.    0.25 -0.25  0.25  0.25  0.    0.    0.    0.    0.25 -0.25  0.25  0.25  0.    0.    0.25  0.25  0.    0.    0.    0.    0.25 -0.25]\n",
      "\n",
      "✅\t= [0.707] * [0.25 0.   0.25 0.   0.25 0.   0.25 0.   0.25 0.   0.25 0.   0.25 0.   0.25 0.   0.25 0.   0.25 0.   0.25 0.   0.25 0.   0.25 0.   0.25 0.   0.25 0.   0.25 0.  ]\n",
      "\t+ [0.707] * [ 0.    0.25  0.    0.25  0.    0.25  0.   -0.25  0.    0.25  0.   -0.25  0.    0.25  0.    0.25  0.    0.25  0.   -0.25  0.    0.25  0.    0.25  0.    0.25  0.    0.25  0.    0.25  0.   -0.25]\n",
      "\n",
      "✅\t= [0.707] * [0.   0.25 0.25 0.   0.   0.25 0.25 0.   0.   0.25 0.25 0.   0.   0.25 0.25 0.   0.   0.25 0.25 0.   0.   0.25 0.25 0.   0.   0.25 0.25 0.   0.   0.25 0.25 0.  ]\n",
      "\t+ [0.707] * [ 0.25  0.    0.    0.25  0.25  0.    0.   -0.25  0.25  0.    0.   -0.25  0.25  0.    0.    0.25  0.25  0.    0.   -0.25  0.25  0.    0.    0.25  0.25  0.    0.    0.25  0.25  0.    0.   -0.25]\n",
      "\n",
      "✅\t= [1.] * [ 0.177 -0.177  0.177  0.177  0.177  0.177  0.177 -0.177  0.177  0.177  0.177 -0.177  0.177 -0.177  0.177  0.177  0.177  0.177  0.177 -0.177  0.177 -0.177  0.177  0.177  0.177 -0.177  0.177  0.177  0.177  0.177  0.177 -0.177]\n",
      "\t+ [0.707] * [0.  0.5 0.  0.  0.  0.  0.  0.  0.  0.  0.  0.  0.  0.5 0.  0.  0.  0.  0.  0.  0.  0.5 0.  0.  0.  0.5 0.  0.  0.  0.  0.  0. ]\n",
      "\n",
      "✅\t= [1.] * [ 0.177  0.177  0.177 -0.177  0.177  0.177  0.177 -0.177  0.177  0.177  0.177 -0.177  0.177  0.177  0.177 -0.177  0.177  0.177  0.177 -0.177  0.177  0.177  0.177 -0.177  0.177  0.177  0.177 -0.177  0.177  0.177  0.177 -0.177]\n",
      "\t+ [0.707] * [0.  0.  0.  0.5 0.  0.  0.  0.  0.  0.  0.  0.  0.  0.  0.  0.5 0.  0.  0.  0.  0.  0.  0.  0.5 0.  0.  0.  0.5 0.  0.  0.  0. ]\n",
      "\n",
      "✅\t= [1.] * [ 0.177  0.177  0.177  0.177 -0.177  0.177  0.177 -0.177 -0.177  0.177  0.177 -0.177  0.177  0.177  0.177  0.177 -0.177  0.177  0.177 -0.177  0.177  0.177  0.177  0.177  0.177  0.177  0.177  0.177 -0.177  0.177  0.177 -0.177]\n",
      "\t+ [0.707] * [0.  0.  0.  0.  0.5 0.  0.  0.  0.5 0.  0.  0.  0.  0.  0.  0.  0.5 0.  0.  0.  0.  0.  0.  0.  0.  0.  0.  0.  0.5 0.  0.  0. ]\n",
      "\n",
      "✅\t= [1.] * [0.177 0.177 0.177 0.177 0.177 0.177 0.177 0.177 0.177 0.177 0.177 0.177 0.177 0.177 0.177 0.177 0.177 0.177 0.177 0.177 0.177 0.177 0.177 0.177 0.177 0.177 0.177 0.177 0.177 0.177 0.177 0.177]\n",
      "\t+ [-0.707] * [0.  0.  0.  0.  0.  0.  0.  0.5 0.  0.  0.  0.5 0.  0.  0.  0.  0.  0.  0.  0.5 0.  0.  0.  0.  0.  0.  0.  0.  0.  0.  0.  0.5]\n",
      "\n",
      "✅\t= [-1.] * [ 0.177 -0.177 -0.177 -0.177 -0.177 -0.177 -0.177  0.177 -0.177 -0.177 -0.177  0.177  0.177 -0.177 -0.177 -0.177 -0.177 -0.177 -0.177  0.177  0.177 -0.177 -0.177 -0.177  0.177 -0.177 -0.177 -0.177 -0.177 -0.177 -0.177  0.177]\n",
      "\t+ [0.707] * [0.5 0.  0.  0.  0.  0.  0.  0.  0.  0.  0.  0.  0.5 0.  0.  0.  0.  0.  0.  0.  0.5 0.  0.  0.  0.5 0.  0.  0.  0.  0.  0.  0. ]\n",
      "\n"
     ]
    },
    {
     "data": {
      "text/plain": [
       "True"
      ]
     },
     "execution_count": 30,
     "metadata": {},
     "output_type": "execute_result"
    }
   ],
   "source": [
    "validate_decompositions(state, decompositions, coeffs)"
   ]
  },
  {
   "cell_type": "code",
   "execution_count": 28,
   "id": "e8df0893-5182-4e60-8720-acce2a3e5e88",
   "metadata": {
    "tags": []
   },
   "outputs": [
    {
     "name": "stdout",
     "output_type": "stream",
     "text": [
      "[19] [1 0 0 1 1]\n",
      "[11] [0 1 0 1 1]\n",
      "[7] [0 0 1 1 1]\n",
      "[[1 0 0]\n",
      " [0 1 0]\n",
      " [0 0 1]\n",
      " [1 1 1]\n",
      " [1 1 1]]\n",
      "(array([ 7, 11, 19, 31]),)\n",
      "[ 1  1  1  1  1  1  1 -1  1  1  1 -1  1  1  1  1  1  1  1 -1  1  1  1  1  1  1  1  1  1  1  1 -1]\n",
      "[ 1  1  1  1  1  1  1 -1  1  1  1 -1  1  1  1  1  1  1  1 -1  1  1  1  1  1  1  1  1  1  1  1 -1]\n"
     ]
    }
   ],
   "source": [
    "_, state, D, circuit = next(enumerate_ccz(5))\n",
    "print(circuit)\n",
    "print(np.where(state < 0))\n",
    "print(np.diag(D.astype(np.int8)))\n",
    "print(\"[ 1  1  1  1  1  1  1 -1  1  1  1 -1  1  1  1  1  1  1  1 -1  1  1  1  1  1  1  1  1  1  1  1 -1]\")"
   ]
  },
  {
   "cell_type": "markdown",
   "id": "413a59f2-e11e-4abc-a111-bcb8f00194b9",
   "metadata": {},
   "source": [
    "There are 29 distinct CCZ circuits and corresponding magic states, so at roughly ~6 mins per search that will take 2 hours. You can run the next cell to perform a rank-2 decomposition search for each of these magic states."
   ]
  },
  {
   "cell_type": "code",
   "execution_count": null,
   "id": "a117712a-90e0-4f87-b1b0-edf47794796e",
   "metadata": {
    "tags": []
   },
   "outputs": [],
   "source": [
    "for index, state, D, circuit in enumerate_ccz(5):\n",
    "    decompositions, coeffs = rank2.ternary_search(state, S5)\n",
    "    print()\n",
    "    print(f\"Distinct circuit index {index}\")\n",
    "    print(f\"|ψ〉= {state}\")\n",
    "    print(f\" D = diag({np.diag(D)})\")\n",
    "    print(circuit)\n",
    "    valid = validate_decompositions(state, decompositions, coeffs, show=False)\n",
    "    status = \"✅\" if valid else \"❌\"\n",
    "    print(f\"All {len(decompositions)} decomposition(s) rank-2: {status}\")\n",
    "    print()"
   ]
  },
  {
   "cell_type": "code",
   "execution_count": null,
   "id": "d5214b56-ab09-4c87-b792-aaa61c28c7b7",
   "metadata": {},
   "outputs": [],
   "source": []
  }
 ],
 "metadata": {
  "kernelspec": {
   "display_name": "Python 3 (ipykernel)",
   "language": "python",
   "name": "python3"
  },
  "language_info": {
   "codemirror_mode": {
    "name": "ipython",
    "version": 3
   },
   "file_extension": ".py",
   "mimetype": "text/x-python",
   "name": "python",
   "nbconvert_exporter": "python",
   "pygments_lexer": "ipython3",
   "version": "3.9.16"
  }
 },
 "nbformat": 4,
 "nbformat_minor": 5
}
